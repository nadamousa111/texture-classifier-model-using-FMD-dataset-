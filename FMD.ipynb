{
  "nbformat": 4,
  "nbformat_minor": 0,
  "metadata": {
    "colab": {
      "name": "FMD_final.ipynb",
      "provenance": [],
      "collapsed_sections": []
    },
    "kernelspec": {
      "name": "python3",
      "display_name": "Python 3"
    },
    "language_info": {
      "name": "python"
    }
  },
  "cells": [
    {
      "cell_type": "code",
      "execution_count": null,
      "metadata": {
        "id": "6ngBdm0VjwMc"
      },
      "outputs": [],
      "source": [
        "from skimage.feature import greycomatrix,greycoprops\n",
        "from keras.preprocessing.image import load_img\n",
        "from keras.preprocessing.image import img_to_array\n",
        "import os\n",
        "import numpy as np\n",
        "from PIL import Image\n",
        "from skimage.color import rgb2gray\n",
        "from sklearn.neighbors import KNeighborsClassifier"
      ]
    },
    {
      "cell_type": "code",
      "source": [
        "!unzip FMD.zip"
      ],
      "metadata": {
        "id": "9r2vP-mKHtD7"
      },
      "execution_count": null,
      "outputs": []
    },
    {
      "cell_type": "code",
      "source": [
        "from skimage import feature\n",
        "def GLCM(img):\n",
        "  feature_vector=[]\n",
        "  img = rgb2gray(img)\n",
        "  img = img.astype(np.uint8)\n",
        "  glcm = greycomatrix(img, [1], [0], 256, symmetric=True, normed=True)\n",
        "  feature_vector.append(greycoprops(glcm, 'contrast')[0,0])\n",
        "  feature_vector.append(greycoprops(glcm, 'homogeneity')[0, 0])\n",
        "  feature_vector.append(greycoprops(glcm, 'energy')[0, 0])\n",
        "  feature_vector.append(greycoprops(glcm, 'correlation')[0, 0])\n",
        "  feature_vector = np.array(feature_vector)\n",
        "  return feature_vector\n",
        "\n",
        "def getFeatureVector(images):\n",
        "  features_for_one_category=[]\n",
        "  features_for_all_categories=[]\n",
        "  for i in range(images.shape[0]):\n",
        "    for j in range(images.shape[1]):\n",
        "      fv=GLCM(images[i][j])\n",
        "      features_for_one_category.append(fv)\n",
        "    features_for_all_categories.append(features_for_one_category)\n",
        "    features_for_one_category=[]\n",
        "  features_for_all_categories = np.array(features_for_all_categories)\n",
        "  return features_for_all_categories\n",
        "\n",
        "def distance(test,train):\n",
        "  return np.sqrt(np.sum(np.square(test-train)))\n",
        "\n",
        "# x is a test feature vector\n",
        "# y in a train feature vector\n",
        "def KNN(test,train):\n",
        "  mini=1e9\n",
        "  index=-1\n",
        "  for i in range(train.shape[0]): # train.shape[0]=10\n",
        "    for j in range(train.shape[1]): # train.shape[1]=70\n",
        "      d=distance(test,train[i][j]) # train[0][0] = 4\n",
        "      print(d)\n",
        "      if mini>d:\n",
        "        index = i\n",
        "      mini = min(mini,d)\n",
        "  return index\n",
        "\n",
        "def accuracy(xtrain,xtest,dirnames):\n",
        "  error=[]\n",
        "  counter=0\n",
        "  for i in range(xtest.shape[0]): # xtext.shape[0]=10\n",
        "    for k in range(xtest.shape[1]): #xtest.shape[1]=30\n",
        "      j = KNN(xtest[i][k],xtrain)\n",
        "      if dirnames[j]==dirnames[i]:\n",
        "        counter+=1\n",
        "      else:\n",
        "        error.append(i)\n",
        "  error = np.array(error)\n",
        "  return (counter/300)*100\n",
        "\n",
        "def convert_image2array(dir):\n",
        "  category = []\n",
        "  matrix=[] \n",
        "  directory = dir\n",
        "  dirnames=[]\n",
        "  for root, dirs, files in os.walk(directory):\n",
        "    if len(files)==0:\n",
        "      continue\n",
        "    for filename in files:\n",
        "      img = load_img(os.path.join(root,filename))\n",
        "      data = img_to_array(img)\n",
        "      matrix.append(data)\n",
        "    category.append(matrix)\n",
        "    matrix=[]\n",
        "    dirnames.append(os.path.split(root)[-1])\n",
        "  category = np.array(category)\n",
        "  return category,dirnames"
      ],
      "metadata": {
        "id": "h-ZY5AXm1bBE"
      },
      "execution_count": null,
      "outputs": []
    },
    {
      "cell_type": "code",
      "source": [
        "images,dirs=convert_image2array('/content/image')\n",
        "print(dirs)"
      ],
      "metadata": {
        "id": "-YJBkYQQ83Nj",
        "colab": {
          "base_uri": "https://localhost:8080/"
        },
        "outputId": "9727ce37-72e5-4f98-96aa-a72d576059d7"
      },
      "execution_count": null,
      "outputs": [
        {
          "output_type": "stream",
          "name": "stdout",
          "text": [
            "['fabric', 'stone', 'metal', 'water', 'foliage', 'glass', 'wood', 'paper', 'leather', 'plastic']\n"
          ]
        }
      ]
    },
    {
      "cell_type": "code",
      "source": [
        "images.shape"
      ],
      "metadata": {
        "id": "IHcW8MqWKSsU",
        "colab": {
          "base_uri": "https://localhost:8080/"
        },
        "outputId": "160f4a63-b6e2-4bef-ede6-b495804c001a"
      },
      "execution_count": null,
      "outputs": [
        {
          "output_type": "execute_result",
          "data": {
            "text/plain": [
              "(10, 100, 384, 512, 3)"
            ]
          },
          "metadata": {},
          "execution_count": 74
        }
      ]
    },
    {
      "cell_type": "code",
      "source": [
        "features = getFeatureVector(images)  "
      ],
      "metadata": {
        "id": "x9OR6EAIKvgc"
      },
      "execution_count": null,
      "outputs": []
    },
    {
      "cell_type": "code",
      "source": [
        "features.shape"
      ],
      "metadata": {
        "id": "8eo1u1zba1AZ",
        "colab": {
          "base_uri": "https://localhost:8080/"
        },
        "outputId": "0bf4230d-8aa8-4515-eff2-20e66d0699fd"
      },
      "execution_count": null,
      "outputs": [
        {
          "output_type": "execute_result",
          "data": {
            "text/plain": [
              "(10, 100, 4)"
            ]
          },
          "metadata": {},
          "execution_count": 76
        }
      ]
    },
    {
      "cell_type": "code",
      "source": [
        "train = features[:,:70,:,]\n",
        "test = features[:,70:,:]\n",
        "print(train[0][0].shape,test.shape)\n",
        "print(test.shape)\n",
        "print(test[0].shape)\n",
        "print(train[0].shape)\n",
        "print(train[0][0])\n",
        "print(test[0][0])"
      ],
      "metadata": {
        "id": "Cmo7uoWU5wZN",
        "colab": {
          "base_uri": "https://localhost:8080/"
        },
        "outputId": "509a1123-11ad-4247-9603-4c72ac2c9dc4"
      },
      "execution_count": null,
      "outputs": [
        {
          "output_type": "stream",
          "name": "stdout",
          "text": [
            "(4,) (10, 30, 4)\n",
            "(10, 30, 4)\n",
            "(30, 4)\n",
            "(70, 4)\n",
            "[1.31890992e+02 2.52705622e-01 3.88537172e-02 9.77677948e-01]\n",
            "[1.78951271e+03 3.83990085e-02 7.61154365e-03 7.05462830e-01]\n"
          ]
        }
      ]
    },
    {
      "cell_type": "code",
      "source": [
        "ac  = accuracy(train,test,dirs)\n",
        "print(\"the accuracy is \" ,ac,\"%\" )"
      ],
      "metadata": {
        "id": "YssP1pCC7M-I"
      },
      "execution_count": null,
      "outputs": []
    }
  ]
}